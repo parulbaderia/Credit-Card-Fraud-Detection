{
 "cells": [
  {
   "cell_type": "code",
   "execution_count": 15,
   "metadata": {},
   "outputs": [],
   "source": [
    "# Please run all the cells sequentially\n",
    "# Importing libraries\n",
    "import pandas as pd\n",
    "import numpy as np\n",
    "import matplotlib.pyplot as plt\n",
    "from scipy import stats\n",
    "import seaborn as sns\n",
    "from datetime import datetime\n",
    "\n",
    "from sklearn import metrics\n",
    "from sklearn.linear_model import LogisticRegression \n",
    "from sklearn.preprocessing import StandardScaler,OneHotEncoder\n",
    "from sklearn.metrics import confusion_matrix, classification_report,accuracy_score ,roc_auc_score#,plot_confusion_matrix\n",
    "from sklearn.metrics import recall_score,precision_score, f1_score\n",
    "from sklearn.model_selection import train_test_split,GridSearchCV,KFold, StratifiedKFold \n",
    "from sklearn.pipeline import Pipeline\n",
    "from sklearn.compose import ColumnTransformer\n",
    "\n",
    "\n",
    "from sklearn.neighbors import KNeighborsClassifier\n",
    "from sklearn.tree import DecisionTreeClassifier\n",
    "from sklearn.ensemble import RandomForestClassifier\n",
    "from sklearn import svm\n",
    "from xgboost import XGBClassifier\n",
    "\n",
    "from imblearn.under_sampling import RandomUnderSampler\n",
    "from imblearn.over_sampling import SMOTENC \n",
    "import warnings\n",
    "warnings.simplefilter(\"ignore\")\n",
    "\n",
    "\n"
   ]
  },
  {
   "cell_type": "markdown",
   "metadata": {},
   "source": [
    "## Q1 - Load\n"
   ]
  },
  {
   "cell_type": "code",
   "execution_count": 16,
   "metadata": {},
   "outputs": [
    {
     "data": {
      "text/html": [
       "<div>\n",
       "<style scoped>\n",
       "    .dataframe tbody tr th:only-of-type {\n",
       "        vertical-align: middle;\n",
       "    }\n",
       "\n",
       "    .dataframe tbody tr th {\n",
       "        vertical-align: top;\n",
       "    }\n",
       "\n",
       "    .dataframe thead th {\n",
       "        text-align: right;\n",
       "    }\n",
       "</style>\n",
       "<table border=\"1\" class=\"dataframe\">\n",
       "  <thead>\n",
       "    <tr style=\"text-align: right;\">\n",
       "      <th></th>\n",
       "      <th>accountNumber</th>\n",
       "      <th>customerId</th>\n",
       "      <th>creditLimit</th>\n",
       "      <th>availableMoney</th>\n",
       "      <th>transactionDateTime</th>\n",
       "      <th>transactionAmount</th>\n",
       "      <th>merchantName</th>\n",
       "      <th>acqCountry</th>\n",
       "      <th>merchantCountryCode</th>\n",
       "      <th>posEntryMode</th>\n",
       "      <th>...</th>\n",
       "      <th>echoBuffer</th>\n",
       "      <th>currentBalance</th>\n",
       "      <th>merchantCity</th>\n",
       "      <th>merchantState</th>\n",
       "      <th>merchantZip</th>\n",
       "      <th>cardPresent</th>\n",
       "      <th>posOnPremises</th>\n",
       "      <th>recurringAuthInd</th>\n",
       "      <th>expirationDateKeyInMatch</th>\n",
       "      <th>isFraud</th>\n",
       "    </tr>\n",
       "  </thead>\n",
       "  <tbody>\n",
       "    <tr>\n",
       "      <th>0</th>\n",
       "      <td>737265056</td>\n",
       "      <td>737265056</td>\n",
       "      <td>5000</td>\n",
       "      <td>5000.00</td>\n",
       "      <td>2016-08-13T14:27:32</td>\n",
       "      <td>98.55</td>\n",
       "      <td>Uber</td>\n",
       "      <td>US</td>\n",
       "      <td>US</td>\n",
       "      <td>02</td>\n",
       "      <td>...</td>\n",
       "      <td></td>\n",
       "      <td>0.00</td>\n",
       "      <td></td>\n",
       "      <td></td>\n",
       "      <td></td>\n",
       "      <td>False</td>\n",
       "      <td></td>\n",
       "      <td></td>\n",
       "      <td>False</td>\n",
       "      <td>False</td>\n",
       "    </tr>\n",
       "    <tr>\n",
       "      <th>1</th>\n",
       "      <td>737265056</td>\n",
       "      <td>737265056</td>\n",
       "      <td>5000</td>\n",
       "      <td>5000.00</td>\n",
       "      <td>2016-10-11T05:05:54</td>\n",
       "      <td>74.51</td>\n",
       "      <td>AMC #191138</td>\n",
       "      <td>US</td>\n",
       "      <td>US</td>\n",
       "      <td>09</td>\n",
       "      <td>...</td>\n",
       "      <td></td>\n",
       "      <td>0.00</td>\n",
       "      <td></td>\n",
       "      <td></td>\n",
       "      <td></td>\n",
       "      <td>True</td>\n",
       "      <td></td>\n",
       "      <td></td>\n",
       "      <td>False</td>\n",
       "      <td>False</td>\n",
       "    </tr>\n",
       "    <tr>\n",
       "      <th>2</th>\n",
       "      <td>737265056</td>\n",
       "      <td>737265056</td>\n",
       "      <td>5000</td>\n",
       "      <td>5000.00</td>\n",
       "      <td>2016-11-08T09:18:39</td>\n",
       "      <td>7.47</td>\n",
       "      <td>Play Store</td>\n",
       "      <td>US</td>\n",
       "      <td>US</td>\n",
       "      <td>09</td>\n",
       "      <td>...</td>\n",
       "      <td></td>\n",
       "      <td>0.00</td>\n",
       "      <td></td>\n",
       "      <td></td>\n",
       "      <td></td>\n",
       "      <td>False</td>\n",
       "      <td></td>\n",
       "      <td></td>\n",
       "      <td>False</td>\n",
       "      <td>False</td>\n",
       "    </tr>\n",
       "    <tr>\n",
       "      <th>3</th>\n",
       "      <td>737265056</td>\n",
       "      <td>737265056</td>\n",
       "      <td>5000</td>\n",
       "      <td>5000.00</td>\n",
       "      <td>2016-12-10T02:14:50</td>\n",
       "      <td>7.47</td>\n",
       "      <td>Play Store</td>\n",
       "      <td>US</td>\n",
       "      <td>US</td>\n",
       "      <td>09</td>\n",
       "      <td>...</td>\n",
       "      <td></td>\n",
       "      <td>0.00</td>\n",
       "      <td></td>\n",
       "      <td></td>\n",
       "      <td></td>\n",
       "      <td>False</td>\n",
       "      <td></td>\n",
       "      <td></td>\n",
       "      <td>False</td>\n",
       "      <td>False</td>\n",
       "    </tr>\n",
       "    <tr>\n",
       "      <th>4</th>\n",
       "      <td>830329091</td>\n",
       "      <td>830329091</td>\n",
       "      <td>5000</td>\n",
       "      <td>5000.00</td>\n",
       "      <td>2016-03-24T21:04:46</td>\n",
       "      <td>71.18</td>\n",
       "      <td>Tim Hortons #947751</td>\n",
       "      <td>US</td>\n",
       "      <td>US</td>\n",
       "      <td>02</td>\n",
       "      <td>...</td>\n",
       "      <td></td>\n",
       "      <td>0.00</td>\n",
       "      <td></td>\n",
       "      <td></td>\n",
       "      <td></td>\n",
       "      <td>True</td>\n",
       "      <td></td>\n",
       "      <td></td>\n",
       "      <td>False</td>\n",
       "      <td>False</td>\n",
       "    </tr>\n",
       "    <tr>\n",
       "      <th>5</th>\n",
       "      <td>830329091</td>\n",
       "      <td>830329091</td>\n",
       "      <td>5000</td>\n",
       "      <td>5000.00</td>\n",
       "      <td>2016-04-19T16:24:27</td>\n",
       "      <td>30.76</td>\n",
       "      <td>In-N-Out #422833</td>\n",
       "      <td>US</td>\n",
       "      <td>US</td>\n",
       "      <td>02</td>\n",
       "      <td>...</td>\n",
       "      <td></td>\n",
       "      <td>0.00</td>\n",
       "      <td></td>\n",
       "      <td></td>\n",
       "      <td></td>\n",
       "      <td>True</td>\n",
       "      <td></td>\n",
       "      <td></td>\n",
       "      <td>False</td>\n",
       "      <td>False</td>\n",
       "    </tr>\n",
       "    <tr>\n",
       "      <th>6</th>\n",
       "      <td>830329091</td>\n",
       "      <td>830329091</td>\n",
       "      <td>5000</td>\n",
       "      <td>5000.00</td>\n",
       "      <td>2016-05-21T14:50:35</td>\n",
       "      <td>57.28</td>\n",
       "      <td>Krispy Kreme #685312</td>\n",
       "      <td>US</td>\n",
       "      <td>US</td>\n",
       "      <td>02</td>\n",
       "      <td>...</td>\n",
       "      <td></td>\n",
       "      <td>0.00</td>\n",
       "      <td></td>\n",
       "      <td></td>\n",
       "      <td></td>\n",
       "      <td>True</td>\n",
       "      <td></td>\n",
       "      <td></td>\n",
       "      <td>False</td>\n",
       "      <td>False</td>\n",
       "    </tr>\n",
       "    <tr>\n",
       "      <th>7</th>\n",
       "      <td>830329091</td>\n",
       "      <td>830329091</td>\n",
       "      <td>5000</td>\n",
       "      <td>5000.00</td>\n",
       "      <td>2016-06-03T00:31:21</td>\n",
       "      <td>9.37</td>\n",
       "      <td>Shake Shack #968081</td>\n",
       "      <td>US</td>\n",
       "      <td>US</td>\n",
       "      <td>05</td>\n",
       "      <td>...</td>\n",
       "      <td></td>\n",
       "      <td>0.00</td>\n",
       "      <td></td>\n",
       "      <td></td>\n",
       "      <td></td>\n",
       "      <td>True</td>\n",
       "      <td></td>\n",
       "      <td></td>\n",
       "      <td>False</td>\n",
       "      <td>False</td>\n",
       "    </tr>\n",
       "    <tr>\n",
       "      <th>8</th>\n",
       "      <td>830329091</td>\n",
       "      <td>830329091</td>\n",
       "      <td>5000</td>\n",
       "      <td>4990.63</td>\n",
       "      <td>2016-06-10T01:21:46</td>\n",
       "      <td>523.67</td>\n",
       "      <td>Burger King #486122</td>\n",
       "      <td></td>\n",
       "      <td>US</td>\n",
       "      <td>02</td>\n",
       "      <td>...</td>\n",
       "      <td></td>\n",
       "      <td>9.37</td>\n",
       "      <td></td>\n",
       "      <td></td>\n",
       "      <td></td>\n",
       "      <td>True</td>\n",
       "      <td></td>\n",
       "      <td></td>\n",
       "      <td>False</td>\n",
       "      <td>False</td>\n",
       "    </tr>\n",
       "    <tr>\n",
       "      <th>9</th>\n",
       "      <td>830329091</td>\n",
       "      <td>830329091</td>\n",
       "      <td>5000</td>\n",
       "      <td>5000.00</td>\n",
       "      <td>2016-07-11T10:47:16</td>\n",
       "      <td>164.37</td>\n",
       "      <td>Five Guys #510989</td>\n",
       "      <td>US</td>\n",
       "      <td>US</td>\n",
       "      <td>05</td>\n",
       "      <td>...</td>\n",
       "      <td></td>\n",
       "      <td>0.00</td>\n",
       "      <td></td>\n",
       "      <td></td>\n",
       "      <td></td>\n",
       "      <td>True</td>\n",
       "      <td></td>\n",
       "      <td></td>\n",
       "      <td>False</td>\n",
       "      <td>False</td>\n",
       "    </tr>\n",
       "  </tbody>\n",
       "</table>\n",
       "<p>10 rows × 29 columns</p>\n",
       "</div>"
      ],
      "text/plain": [
       "   accountNumber  customerId  creditLimit  availableMoney  \\\n",
       "0      737265056   737265056         5000         5000.00   \n",
       "1      737265056   737265056         5000         5000.00   \n",
       "2      737265056   737265056         5000         5000.00   \n",
       "3      737265056   737265056         5000         5000.00   \n",
       "4      830329091   830329091         5000         5000.00   \n",
       "5      830329091   830329091         5000         5000.00   \n",
       "6      830329091   830329091         5000         5000.00   \n",
       "7      830329091   830329091         5000         5000.00   \n",
       "8      830329091   830329091         5000         4990.63   \n",
       "9      830329091   830329091         5000         5000.00   \n",
       "\n",
       "   transactionDateTime  transactionAmount          merchantName acqCountry  \\\n",
       "0  2016-08-13T14:27:32              98.55                  Uber         US   \n",
       "1  2016-10-11T05:05:54              74.51           AMC #191138         US   \n",
       "2  2016-11-08T09:18:39               7.47            Play Store         US   \n",
       "3  2016-12-10T02:14:50               7.47            Play Store         US   \n",
       "4  2016-03-24T21:04:46              71.18   Tim Hortons #947751         US   \n",
       "5  2016-04-19T16:24:27              30.76      In-N-Out #422833         US   \n",
       "6  2016-05-21T14:50:35              57.28  Krispy Kreme #685312         US   \n",
       "7  2016-06-03T00:31:21               9.37   Shake Shack #968081         US   \n",
       "8  2016-06-10T01:21:46             523.67   Burger King #486122              \n",
       "9  2016-07-11T10:47:16             164.37     Five Guys #510989         US   \n",
       "\n",
       "  merchantCountryCode posEntryMode  ... echoBuffer currentBalance  \\\n",
       "0                  US           02  ...                      0.00   \n",
       "1                  US           09  ...                      0.00   \n",
       "2                  US           09  ...                      0.00   \n",
       "3                  US           09  ...                      0.00   \n",
       "4                  US           02  ...                      0.00   \n",
       "5                  US           02  ...                      0.00   \n",
       "6                  US           02  ...                      0.00   \n",
       "7                  US           05  ...                      0.00   \n",
       "8                  US           02  ...                      9.37   \n",
       "9                  US           05  ...                      0.00   \n",
       "\n",
       "  merchantCity merchantState merchantZip  cardPresent  posOnPremises  \\\n",
       "0                                               False                  \n",
       "1                                                True                  \n",
       "2                                               False                  \n",
       "3                                               False                  \n",
       "4                                                True                  \n",
       "5                                                True                  \n",
       "6                                                True                  \n",
       "7                                                True                  \n",
       "8                                                True                  \n",
       "9                                                True                  \n",
       "\n",
       "   recurringAuthInd expirationDateKeyInMatch isFraud  \n",
       "0                                      False   False  \n",
       "1                                      False   False  \n",
       "2                                      False   False  \n",
       "3                                      False   False  \n",
       "4                                      False   False  \n",
       "5                                      False   False  \n",
       "6                                      False   False  \n",
       "7                                      False   False  \n",
       "8                                      False   False  \n",
       "9                                      False   False  \n",
       "\n",
       "[10 rows x 29 columns]"
      ]
     },
     "execution_count": 16,
     "metadata": {},
     "output_type": "execute_result"
    }
   ],
   "source": [
    "# Loading the data to a pandas dataframe. Code and data to be kept in the same folder\n",
    "df = pd.read_json('transactions.txt',lines=True)\n",
    "df.head(10)"
   ]
  },
  {
   "cell_type": "code",
   "execution_count": 17,
   "metadata": {},
   "outputs": [
    {
     "name": "stdout",
     "output_type": "stream",
     "text": [
      "Dataset summary : Number of entries, fields, non_null entries and data type can be found here\n",
      "<class 'pandas.core.frame.DataFrame'>\n",
      "RangeIndex: 786363 entries, 0 to 786362\n",
      "Data columns (total 29 columns):\n",
      " #   Column                    Non-Null Count   Dtype  \n",
      "---  ------                    --------------   -----  \n",
      " 0   accountNumber             786363 non-null  int64  \n",
      " 1   customerId                786363 non-null  int64  \n",
      " 2   creditLimit               786363 non-null  int64  \n",
      " 3   availableMoney            786363 non-null  float64\n",
      " 4   transactionDateTime       786363 non-null  object \n",
      " 5   transactionAmount         786363 non-null  float64\n",
      " 6   merchantName              786363 non-null  object \n",
      " 7   acqCountry                786363 non-null  object \n",
      " 8   merchantCountryCode       786363 non-null  object \n",
      " 9   posEntryMode              786363 non-null  object \n",
      " 10  posConditionCode          786363 non-null  object \n",
      " 11  merchantCategoryCode      786363 non-null  object \n",
      " 12  currentExpDate            786363 non-null  object \n",
      " 13  accountOpenDate           786363 non-null  object \n",
      " 14  dateOfLastAddressChange   786363 non-null  object \n",
      " 15  cardCVV                   786363 non-null  int64  \n",
      " 16  enteredCVV                786363 non-null  int64  \n",
      " 17  cardLast4Digits           786363 non-null  int64  \n",
      " 18  transactionType           786363 non-null  object \n",
      " 19  echoBuffer                786363 non-null  object \n",
      " 20  currentBalance            786363 non-null  float64\n",
      " 21  merchantCity              786363 non-null  object \n",
      " 22  merchantState             786363 non-null  object \n",
      " 23  merchantZip               786363 non-null  object \n",
      " 24  cardPresent               786363 non-null  bool   \n",
      " 25  posOnPremises             786363 non-null  object \n",
      " 26  recurringAuthInd          786363 non-null  object \n",
      " 27  expirationDateKeyInMatch  786363 non-null  bool   \n",
      " 28  isFraud                   786363 non-null  bool   \n",
      "dtypes: bool(3), float64(3), int64(6), object(17)\n",
      "memory usage: 158.2+ MB\n"
     ]
    }
   ],
   "source": [
    "print('Dataset summary : Number of entries, fields, non_null entries and data type can be found here')\n",
    "df.info()"
   ]
  },
  {
   "cell_type": "markdown",
   "metadata": {},
   "source": [
    "#### Data Cleaning"
   ]
  },
  {
   "cell_type": "code",
   "execution_count": 18,
   "metadata": {},
   "outputs": [
    {
     "name": "stdout",
     "output_type": "stream",
     "text": [
      "Since the dataset is imbalanced we would try not to straightaway drop missing values \n",
      "otherwise theres a possibility that minority class ends up with low number of samples\n"
     ]
    },
    {
     "data": {
      "image/png": "[encoded data removed]",
      "text/plain": [
       "<Figure size 640x480 with 1 Axes>"
      ]
     },
     "metadata": {},
     "output_type": "display_data"
    }
   ],
   "source": [
    "# Check if dataset is balanced or not\n",
    "df['isFraud'].value_counts().plot(kind='bar',color = {'blue','green'})\n",
    "plt.title('Instances of Fraud and No-Fraud cases')\n",
    "plt.ylabel('Frequency')\n",
    "\n",
    "print('Since the dataset is imbalanced we would try not to straightaway drop missing values \\notherwise theres a possibility that minority class ends up with low number of samples')"
   ]
  },
  {
   "cell_type": "code",
   "execution_count": 19,
   "metadata": {},
   "outputs": [],
   "source": [
    "# Converting 'accountOpenDate', 'currentExpDate', 'dateOfLastAddressChange' & 'transactionDateTime' to Date-Time format\n",
    "df['accountOpenDate'] = pd.to_datetime(df['accountOpenDate'])\n",
    "df['currentExpDate'] = pd.to_datetime(df['currentExpDate'])\n",
    "df['dateOfLastAddressChange'] = pd.to_datetime(df['dateOfLastAddressChange'])\n",
    "df['transactionDateTime'] = pd.to_datetime(df['transactionDateTime'])"
   ]
  },
  {
   "cell_type": "code",
   "execution_count": 20,
   "metadata": {},
   "outputs": [
    {
     "name": "stdout",
     "output_type": "stream",
     "text": [
      "Dropping emplty columns: merchantCity, merchantState, merchantZip, posOnPremises, recurringAuthInd\n"
     ]
    }
   ],
   "source": [
    "# Removing empty columns those contain blank fields:\n",
    "print('Dropping emplty columns: merchantCity, merchantState, merchantZip, posOnPremises, recurringAuthInd')\n",
    "df = df.drop(['merchantCity','merchantState','merchantZip','posOnPremises','recurringAuthInd','echoBuffer'],axis=1)"
   ]
  },
  {
   "cell_type": "code",
   "execution_count": 21,
   "metadata": {},
   "outputs": [],
   "source": [
    "#Converting blanks to 'Unknown' in following columns:\n",
    "\n",
    "# acqCountry\n",
    "df['acqCountry'].replace({\"\": \"Unknown\"},inplace=True)\n",
    "\n",
    "# transactionType\n",
    "df['transactionType'].replace({\"\": \"Unknown\"},inplace=True)\n",
    "\n",
    "# merchantCountryCode \n",
    "df['merchantCountryCode'].replace({\"\": \"NA\"},inplace=True)\n",
    "\n",
    "#posConditionCode \n",
    "df['posConditionCode'].replace({\"\": \"NA\"},inplace=True)\n",
    "\n",
    "#posEntrymode \n",
    "df['posEntryMode'].replace({\"\": \"NA\"},inplace=True)\n"
   ]
  },
  {
   "cell_type": "markdown",
   "metadata": {},
   "source": [
    "#### Brief Analysis of dataset"
   ]
  },
  {
   "cell_type": "code",
   "execution_count": 22,
   "metadata": {},
   "outputs": [
    {
     "name": "stdout",
     "output_type": "stream",
     "text": [
      "The data consists transaction information for 5000 different accounts\n"
     ]
    }
   ],
   "source": [
    "print('The data consists transaction information for {} different accounts'.format(df['accountNumber'].nunique()))"
   ]
  },
  {
   "cell_type": "code",
   "execution_count": 23,
   "metadata": {},
   "outputs": [
    {
     "name": "stdout",
     "output_type": "stream",
     "text": [
      "The data consists transaction information for 5000 different customers\n"
     ]
    }
   ],
   "source": [
    "print('The data consists transaction information for {} different customers'.format(df['customerId'].nunique()))"
   ]
  },
  {
   "cell_type": "code",
   "execution_count": 24,
   "metadata": {},
   "outputs": [
    {
     "name": "stdout",
     "output_type": "stream",
     "text": [
      "The data contains transaction history from 2016-01-01 00:01:02 to 2016-12-30 23:59:45\n"
     ]
    }
   ],
   "source": [
    "earliest_transaction = min(df['transactionDateTime'])\n",
    "latest_transaction = max(df['transactionDateTime'])\n",
    "print('The data contains transaction history from {} to {}'.format(earliest_transaction,latest_transaction))"
   ]
  },
  {
   "cell_type": "code",
   "execution_count": 25,
   "metadata": {},
   "outputs": [
    {
     "name": "stdout",
     "output_type": "stream",
     "text": [
      "Dates for the Oldest and the Newest accounts are 1989-08-22 00:00:00 and 2015-12-31 00:00:00\n"
     ]
    }
   ],
   "source": [
    "oldest_account = min(df['accountOpenDate'])\n",
    "latest_account = max(df['accountOpenDate'])\n",
    "print('Dates for the Oldest and the Newest accounts are {} and {}'.format(oldest_account,latest_account))"
   ]
  },
  {
   "cell_type": "code",
   "execution_count": 26,
   "metadata": {},
   "outputs": [
    {
     "name": "stdout",
     "output_type": "stream",
     "text": [
      "Percentage of fraudulent transactions is 1.579041740264992\n"
     ]
    }
   ],
   "source": [
    "fraud_per = 100*sum(df['isFraud']==1)/len(df)\n",
    "print('Percentage of fraudulent transactions is', fraud_per)"
   ]
  },
  {
   "cell_type": "code",
   "execution_count": 27,
   "metadata": {},
   "outputs": [
    {
     "name": "stdout",
     "output_type": "stream",
     "text": [
      "Different transaction types are : \n"
     ]
    },
    {
     "data": {
      "text/plain": [
       "PURCHASE                745193\n",
       "REVERSAL                 20303\n",
       "ADDRESS_VERIFICATION     20169\n",
       "Unknown                    698\n",
       "Name: transactionType, dtype: int64"
      ]
     },
     "execution_count": 27,
     "metadata": {},
     "output_type": "execute_result"
    }
   ],
   "source": [
    "print('Different transaction types are : ')\n",
    "df['transactionType'].value_counts()"
   ]
  },
  {
   "cell_type": "markdown",
   "metadata": {},
   "source": [
    "## Q2 - Plot"
   ]
  },
  {
   "cell_type": "code",
   "execution_count": 28,
   "metadata": {},
   "outputs": [
    {
     "name": "stdout",
     "output_type": "stream",
     "text": [
      "Maximum transaction value is 2011.54\n",
      "Minimum transaction value is 0.0\n",
      "Average transaction value is 136.98579095150708\n",
      "Median transaction value is 87.9\n",
      "Most common transaction value is 0.0\n",
      "Standard deviation in transaction value is 147.7255690194876\n"
     ]
    },
    {
     "data": {
      "image/png": "[encoded data removed]",
      "text/plain": [
       "<Figure size 640x480 with 1 Axes>"
      ]
     },
     "metadata": {},
     "output_type": "display_data"
    }
   ],
   "source": [
    "# Plotting histogram of transaction amount\n",
    "plt.hist(df['transactionAmount'],bins=[0,100,200,300,400,500,1000,2100])\n",
    "plt.title('Histogram of transaction amounts')\n",
    "plt.xlabel('Transaction amount')\n",
    "plt.ylabel('Frequency')\n",
    "\n",
    "\n",
    "# Descriptive statistics of transaction amount\n",
    "print('Maximum transaction value is {}'.format(max(df['transactionAmount'])))\n",
    "print('Minimum transaction value is {}'.format(min(df['transactionAmount'])))\n",
    "print('Average transaction value is {}'.format((df['transactionAmount'].mean())))\n",
    "print('Median transaction value is {}'.format((df['transactionAmount'].median())))\n",
    "print('Most common transaction value is {}'.format((df['transactionAmount'].mode()[0])))\n",
    "print('Standard deviation in transaction value is {}'.format((df['transactionAmount'].std())))"
   ]
  },
  {
   "cell_type": "markdown",
   "metadata": {},
   "source": [
    "##### The histogram is right skewed as the median is below the mean value"
   ]
  },
  {
   "cell_type": "markdown",
   "metadata": {},
   "source": [
    "##### Let's look at different transaction types to gain more insights"
   ]
  },
  {
   "cell_type": "code",
   "execution_count": 29,
   "metadata": {},
   "outputs": [
    {
     "name": "stdout",
     "output_type": "stream",
     "text": [
      "Mean transaction_amount in purchase category is 140.62169833855123\n",
      "Mean transaction_amount in address verification category is 0.0\n",
      "Mean transaction_amount in reversal category is 138.98401714032408\n"
     ]
    }
   ],
   "source": [
    "# Splitting dataset based on transaction type\n",
    "df_p = df[df['transactionType']=='PURCHASE']\n",
    "df_av = df[df['transactionType']=='ADDRESS_VERIFICATION']\n",
    "df_r = df[df['transactionType']=='REVERSAL']\n",
    "print('Mean transaction_amount in purchase category is',df_p['transactionAmount'].mean())\n",
    "print('Mean transaction_amount in address verification category is',df_av['transactionAmount'].mean())\n",
    "print('Mean transaction_amount in reversal category is',df_r['transactionAmount'].mean())"
   ]
  },
  {
   "cell_type": "markdown",
   "metadata": {},
   "source": [
    "##### It can be seen that mean transaction value under 'Address verification' is 0. Let's only consider 'Purchases'"
   ]
  },
  {
   "cell_type": "code",
   "execution_count": 30,
   "metadata": {},
   "outputs": [
    {
     "name": "stdout",
     "output_type": "stream",
     "text": [
      "Maximum transaction value is 2011.54\n",
      "Minimum transaction value is 0.0\n",
      "Average transaction value is 140.62169833855123\n",
      "Median transaction value is 91.8\n",
      "Most common transaction value is 0.0\n",
      "Standard deviation in transaction value is 147.94248456728855\n"
     ]
    },
    {
     "data": {
      "image/png": "[encoded data removed]",
      "text/plain": [
       "<Figure size 640x480 with 1 Axes>"
      ]
     },
     "metadata": {},
     "output_type": "display_data"
    }
   ],
   "source": [
    "# Plotting histogram of transaction amount for category 'Purchase'\n",
    "plt.hist(df_p['transactionAmount'],bins=[0,100,200,300,400,500,1000,2100])\n",
    "plt.title('Histogram of transaction amounts for Purchase Category')\n",
    "plt.xlabel('Transaction amount')\n",
    "plt.ylabel('Frequency')\n",
    "\n",
    "#Descriptive statistics\n",
    "print('Maximum transaction value is {}'.format(max(df_p['transactionAmount'])))\n",
    "print('Minimum transaction value is {}'.format(min(df_p['transactionAmount'])))\n",
    "print('Average transaction value is {}'.format((df_p['transactionAmount'].mean())))\n",
    "print('Median transaction value is {}'.format((df_p['transactionAmount'].median())))\n",
    "print('Most common transaction value is {}'.format((df_p['transactionAmount'].mode()[0])))\n",
    "print('Standard deviation in transaction value is {}'.format(np.std(df_p['transactionAmount'].values)))"
   ]
  },
  {
   "cell_type": "markdown",
   "metadata": {},
   "source": [
    "##### It can be seen here that most purchases are low in amount ( < USD 50). This is expected as people do not regularly make high value purchases."
   ]
  },
  {
   "cell_type": "markdown",
   "metadata": {},
   "source": [
    "##### Some important questions to ask are :\n",
    "\n",
    "a) When (month of the year or time of the day) do transactions occur more frequently?"
   ]
  },
  {
   "cell_type": "markdown",
   "metadata": {},
   "source": [
    "b) How does the average amount spent depend on the Credit Limit of Available balance?\n"
   ]
  },
  {
   "cell_type": "markdown",
   "metadata": {},
   "source": [
    "\n",
    "c) Which categories (ex: Retail, Healthcare) attract more transactions?"
   ]
  },
  {
   "cell_type": "markdown",
   "metadata": {},
   "source": [
    "d) What are the characteristics of Heavy spenders or Frequent spenders?"
   ]
  },
  {
   "cell_type": "markdown",
   "metadata": {},
   "source": [
    "## Q3 Data Wrangling - Duplicate transactions"
   ]
  },
  {
   "cell_type": "markdown",
   "metadata": {},
   "source": [
    "#### Reverse Transactions"
   ]
  },
  {
   "cell_type": "markdown",
   "metadata": {},
   "source": [
    " It can be observed that Reversal type transactions are mentioned under the column 'transactionType'"
   ]
  },
  {
   "cell_type": "code",
   "execution_count": 31,
   "metadata": {},
   "outputs": [],
   "source": [
    "# Function to generate dataframe of reverse transactions, number of reverse transactions and their total transactional value\n",
    "\n",
    "def reversal(d_frame):\n",
    "    d_rev = d_frame[d_frame['transactionType']=='REVERSAL']\n",
    "    # Number of reverse transactions\n",
    "    n_rev = len(d_rev)\n",
    "    # Total transaction amount of reverse transactions\n",
    "    tot_rev_amt = sum(d_rev['transactionAmount'])\n",
    "    return d_rev,n_rev,tot_rev_amt"
   ]
  },
  {
   "cell_type": "code",
   "execution_count": 32,
   "metadata": {},
   "outputs": [
    {
     "name": "stdout",
     "output_type": "stream",
     "text": [
      "Dataframe d_reversal contains information of reverse transactions\n",
      "Number of reverse transaction are 20303\n",
      "Total transaction value of reverse transactions is 2821792.4999999753\n"
     ]
    }
   ],
   "source": [
    "d_reversal,no,amt = reversal(df)\n",
    "print('Dataframe d_reversal contains information of reverse transactions')\n",
    "print('Number of reverse transaction are',no)\n",
    "print('Total transaction value of reverse transactions is',amt)"
   ]
  },
  {
   "cell_type": "markdown",
   "metadata": {},
   "source": [
    "#### Multi-swipe transactions"
   ]
  },
  {
   "cell_type": "markdown",
   "metadata": {},
   "source": [
    "Two transactions are considered multiswipe transactions, if their Account Numbers, Credit card numbers, Transaction values and Merchant names match exactly and the time difference between the two transactions is small i.e. less than 180 seconds  "
   ]
  },
  {
   "cell_type": "markdown",
   "metadata": {},
   "source": [
    " A Reverse transaction can also satisfy the above conditions hence it needs to be filtered out when identifying Multi-swipe transactions"
   ]
  },
  {
   "cell_type": "code",
   "execution_count": 33,
   "metadata": {},
   "outputs": [],
   "source": [
    "def multiswipe(data):\n",
    "    \n",
    "    d_frame = data.copy()\n",
    "    \n",
    "    # Creating new upward shifted columns\n",
    "    d_frame['accno_shift'] = d_frame['accountNumber'].shift(-1)\n",
    "    d_frame['card_4D_shift'] = d_frame['cardLast4Digits'].shift(-1)\n",
    "    d_frame['merchant_shift']= d_frame['merchantName'].shift(-1)\n",
    "    d_frame['trans_shift'] = d_frame['transactionAmount'].shift(-1)\n",
    "    d_frame['transtime_shift'] = d_frame['transactionDateTime'].shift(-1)\n",
    "    d_frame['transtype_shift'] = d_frame['transactionType'].shift(-1)\n",
    "    d_frame['Time_diff'] = d_frame['transtime_shift'] - d_frame['transactionDateTime']\n",
    "    \n",
    "    # Specifying conditions\n",
    "    filter1 = d_frame['transactionAmount']==d_frame['trans_shift']\n",
    "    filter2 = d_frame['transactionType']==d_frame['transtype_shift']\n",
    "    filter3 = d_frame['Time_diff'].dt.total_seconds() < 180\n",
    "    filter4 = d_frame['merchantName'] == d_frame['merchant_shift']\n",
    "    filter5 = d_frame['cardLast4Digits'] == d_frame['card_4D_shift']\n",
    "    d_frame['Multi'] = filter1 & filter2 & filter3 & filter4 & filter5\n",
    "    multiswipeindex = d_frame[d_frame['Multi']==True].index\n",
    "    \n",
    "    d_multi = data.ix[multiswipeindex]\n",
    "    n_multi = len(d_multi)\n",
    "    tot_amt_multi = sum(d_multi['transactionAmount'])\n",
    "    \n",
    "    return d_multi,n_multi,tot_amt_multi"
   ]
  },
  {
   "cell_type": "code",
   "execution_count": 34,
   "metadata": {},
   "outputs": [
    {
     "ename": "AttributeError",
     "evalue": "'DataFrame' object has no attribute 'ix'",
     "output_type": "error",
     "traceback": [
      "\u001b[1;31m---------------------------------------------------------------------------\u001b[0m",
      "\u001b[1;31mAttributeError\u001b[0m                            Traceback (most recent call last)",
      "Cell \u001b[1;32mIn[34], line 1\u001b[0m\n\u001b[1;32m----> 1\u001b[0m df_multiswipe,n_multi_swipe,amt_multiswipe \u001b[38;5;241m=\u001b[39m \u001b[43mmultiswipe\u001b[49m\u001b[43m(\u001b[49m\u001b[43mdf\u001b[49m\u001b[43m)\u001b[49m\n\u001b[0;32m      2\u001b[0m \u001b[38;5;28mprint\u001b[39m(\u001b[38;5;124m'\u001b[39m\u001b[38;5;124mdf_multiswipe consists of multi_swipe transactions\u001b[39m\u001b[38;5;124m'\u001b[39m)\n\u001b[0;32m      3\u001b[0m \u001b[38;5;28mprint\u001b[39m(\u001b[38;5;124m'\u001b[39m\u001b[38;5;124mNumber of multi-swipe transactions are\u001b[39m\u001b[38;5;124m'\u001b[39m,n_multi_swipe)\n",
      "Cell \u001b[1;32mIn[33], line 23\u001b[0m, in \u001b[0;36mmultiswipe\u001b[1;34m(data)\u001b[0m\n\u001b[0;32m     20\u001b[0m d_frame[\u001b[38;5;124m'\u001b[39m\u001b[38;5;124mMulti\u001b[39m\u001b[38;5;124m'\u001b[39m] \u001b[38;5;241m=\u001b[39m filter1 \u001b[38;5;241m&\u001b[39m filter2 \u001b[38;5;241m&\u001b[39m filter3 \u001b[38;5;241m&\u001b[39m filter4 \u001b[38;5;241m&\u001b[39m filter5\n\u001b[0;32m     21\u001b[0m multiswipeindex \u001b[38;5;241m=\u001b[39m d_frame[d_frame[\u001b[38;5;124m'\u001b[39m\u001b[38;5;124mMulti\u001b[39m\u001b[38;5;124m'\u001b[39m]\u001b[38;5;241m==\u001b[39m\u001b[38;5;28;01mTrue\u001b[39;00m]\u001b[38;5;241m.\u001b[39mindex\n\u001b[1;32m---> 23\u001b[0m d_multi \u001b[38;5;241m=\u001b[39m \u001b[43mdata\u001b[49m\u001b[38;5;241;43m.\u001b[39;49m\u001b[43mix\u001b[49m[multiswipeindex]\n\u001b[0;32m     24\u001b[0m n_multi \u001b[38;5;241m=\u001b[39m \u001b[38;5;28mlen\u001b[39m(d_multi)\n\u001b[0;32m     25\u001b[0m tot_amt_multi \u001b[38;5;241m=\u001b[39m \u001b[38;5;28msum\u001b[39m(d_multi[\u001b[38;5;124m'\u001b[39m\u001b[38;5;124mtransactionAmount\u001b[39m\u001b[38;5;124m'\u001b[39m])\n",
      "File \u001b[1;32m~\\anaconda3\\lib\\site-packages\\pandas\\core\\generic.py:5902\u001b[0m, in \u001b[0;36mNDFrame.__getattr__\u001b[1;34m(self, name)\u001b[0m\n\u001b[0;32m   5895\u001b[0m \u001b[38;5;28;01mif\u001b[39;00m (\n\u001b[0;32m   5896\u001b[0m     name \u001b[38;5;129;01mnot\u001b[39;00m \u001b[38;5;129;01min\u001b[39;00m \u001b[38;5;28mself\u001b[39m\u001b[38;5;241m.\u001b[39m_internal_names_set\n\u001b[0;32m   5897\u001b[0m     \u001b[38;5;129;01mand\u001b[39;00m name \u001b[38;5;129;01mnot\u001b[39;00m \u001b[38;5;129;01min\u001b[39;00m \u001b[38;5;28mself\u001b[39m\u001b[38;5;241m.\u001b[39m_metadata\n\u001b[0;32m   5898\u001b[0m     \u001b[38;5;129;01mand\u001b[39;00m name \u001b[38;5;129;01mnot\u001b[39;00m \u001b[38;5;129;01min\u001b[39;00m \u001b[38;5;28mself\u001b[39m\u001b[38;5;241m.\u001b[39m_accessors\n\u001b[0;32m   5899\u001b[0m     \u001b[38;5;129;01mand\u001b[39;00m \u001b[38;5;28mself\u001b[39m\u001b[38;5;241m.\u001b[39m_info_axis\u001b[38;5;241m.\u001b[39m_can_hold_identifiers_and_holds_name(name)\n\u001b[0;32m   5900\u001b[0m ):\n\u001b[0;32m   5901\u001b[0m     \u001b[38;5;28;01mreturn\u001b[39;00m \u001b[38;5;28mself\u001b[39m[name]\n\u001b[1;32m-> 5902\u001b[0m \u001b[38;5;28;01mreturn\u001b[39;00m \u001b[38;5;28;43mobject\u001b[39;49m\u001b[38;5;241;43m.\u001b[39;49m\u001b[38;5;21;43m__getattribute__\u001b[39;49m\u001b[43m(\u001b[49m\u001b[38;5;28;43mself\u001b[39;49m\u001b[43m,\u001b[49m\u001b[43m \u001b[49m\u001b[43mname\u001b[49m\u001b[43m)\u001b[49m\n",
      "\u001b[1;31mAttributeError\u001b[0m: 'DataFrame' object has no attribute 'ix'"
     ]
    }
   ],
   "source": [
    "df_multiswipe,n_multi_swipe,amt_multiswipe = multiswipe(df)\n",
    "print('df_multiswipe consists of multi_swipe transactions')\n",
    "print('Number of multi-swipe transactions are',n_multi_swipe)\n",
    "print('Total value of multiswipe transactions is',amt_multiswipe)"
   ]
  },
  {
   "cell_type": "code",
   "execution_count": null,
   "metadata": {},
   "outputs": [],
   "source": [
    "df_multiswipe.head(5)"
   ]
  },
  {
   "cell_type": "markdown",
   "metadata": {},
   "source": [
    "## Q4 - Modelling"
   ]
  },
  {
   "cell_type": "markdown",
   "metadata": {},
   "source": [
    "#### Adding New Features"
   ]
  },
  {
   "cell_type": "code",
   "execution_count": null,
   "metadata": {},
   "outputs": [],
   "source": [
    "df3 = df.copy()\n",
    "\n",
    "# Creating new features which could be helpful in predicting fraud transactions\n",
    "\n",
    "# Calculating age of account by subtracting accountOpenDate from transaction_Date\n",
    "df3['account_age'] = (df3['transactionDateTime']-df3['accountOpenDate']).dt.days\n",
    "\n",
    "# Calculating remaining account age by subtracting transaction_Date from expiry date \n",
    "df3['account_rem'] = (df3['currentExpDate'] - df3['transactionDateTime']).dt.days\n",
    "\n",
    "# Subtracting date of last address change from transaction date time\n",
    "df3['address_change'] = (df3['transactionDateTime']-df3['dateOfLastAddressChange']).dt.days\n",
    "\n",
    "# Adding a boolean feature that specifies if enetered CVV is same as Card CVV\n",
    "df3['CVV_match'] = df3['cardCVV'] == df['enteredCVV']\n",
    "\n",
    "df3.info()"
   ]
  },
  {
   "cell_type": "markdown",
   "metadata": {},
   "source": [
    "#### Exploratory data analysis"
   ]
  },
  {
   "cell_type": "code",
   "execution_count": null,
   "metadata": {},
   "outputs": [],
   "source": [
    "#Checking the effect of account_age on whether fraud or not\n",
    "df3.groupby('isFraud').account_age.mean().plot(kind='bar',color=('green','red'))\n",
    "plt.ylabel('Age of account')\n",
    "plt.title('Account age vs Fraud status')\n",
    "plt.show()\n",
    "print('Fraud transactions class has lower account age')"
   ]
  },
  {
   "cell_type": "code",
   "execution_count": null,
   "metadata": {},
   "outputs": [],
   "source": [
    "#Checking the effect of Time since address Change on whether fraud or not\n",
    "df3.groupby('isFraud').address_change.mean().plot(kind='bar',color=('green','red'))\n",
    "plt.ylabel('Time since address Change')\n",
    "plt.title('Time since Address Change vs Fraud status')\n",
    "plt.show()\n",
    "print('Fraud transactions class has a lower average time since last address change')"
   ]
  },
  {
   "cell_type": "code",
   "execution_count": null,
   "metadata": {},
   "outputs": [],
   "source": [
    "df3.groupby('isFraud').transactionAmount.mean().plot(kind='bar',color=('green','red'))\n",
    "plt.ylabel('Transaction amount')\n",
    "plt.title('Transaction amount vs Fraud status')\n",
    "plt.show()\n",
    "print('Fraud transactions class has a higher average transaction amount')"
   ]
  },
  {
   "cell_type": "code",
   "execution_count": null,
   "metadata": {},
   "outputs": [],
   "source": [
    "df3.groupby('isFraud').expirationDateKeyInMatch.mean().plot(kind='bar',color=('green','red'))\n",
    "plt.ylabel('Expiration Key Match')\n",
    "plt.title('Expiration key match vs Fraud status')\n",
    "plt.show()\n",
    "print('Fraud transactions class has lower instances of expiration key matches')"
   ]
  },
  {
   "cell_type": "code",
   "execution_count": null,
   "metadata": {},
   "outputs": [],
   "source": [
    "df3.groupby('isFraud').cardPresent.mean().plot(kind='bar',color=('green','red'))\n",
    "plt.ylabel('Card presence')\n",
    "plt.title('Card presence vs Fraud status')\n",
    "plt.show()\n",
    "print('Fraud transactions class has lower instances when card was present')"
   ]
  },
  {
   "cell_type": "code",
   "execution_count": null,
   "metadata": {},
   "outputs": [],
   "source": [
    "df3.groupby('posEntryMode').isFraud.mean().plot(kind='bar')\n",
    "plt.ylabel('Average fraud cases')\n",
    "plt.title('POS entry mode vs Fraud status')\n",
    "plt.show()\n",
    "print('Samples with Unknown POS entry mode have higher instances of Fraud')"
   ]
  },
  {
   "cell_type": "code",
   "execution_count": null,
   "metadata": {},
   "outputs": [],
   "source": [
    "df3.groupby('posConditionCode').isFraud.mean().plot(kind='bar')\n",
    "plt.ylabel('Average fraud cases')\n",
    "plt.title('POS condition code vs Fraud status')\n",
    "plt.show()\n",
    "print('Samples with Unknown POS Condition Code have higher instances of Fraud')"
   ]
  },
  {
   "cell_type": "code",
   "execution_count": null,
   "metadata": {},
   "outputs": [],
   "source": [
    "df3.groupby('merchantCountryCode').isFraud.mean().plot(kind='bar')\n",
    "plt.ylabel('Average fraud cases')\n",
    "plt.title('Merchant country code vs Fraud status')\n",
    "plt.show()\n",
    "print('Samples with Unknown Merchant country code have higher instances of Fraud')"
   ]
  },
  {
   "cell_type": "markdown",
   "metadata": {},
   "source": [
    "#### Feature Correlation Matrix"
   ]
  },
  {
   "cell_type": "code",
   "execution_count": null,
   "metadata": {},
   "outputs": [],
   "source": [
    "def correlation_heatmap(train):\n",
    "    correlations = train.corr()\n",
    "\n",
    "    fig, ax = plt.subplots(figsize=(10,10))\n",
    "    sns.heatmap(correlations, vmax=1.0, center=0, fmt='.2f',\n",
    "                square=True, linewidths=.5, annot=True, cbar_kws={\"shrink\": .70})\n",
    "    plt.show();\n",
    "    \n",
    "correlation_heatmap(df3)"
   ]
  },
  {
   "cell_type": "markdown",
   "metadata": {},
   "source": [
    "##### 'creditLimit' and 'avaialbeMoney' are correlated features and hence we would keep only one of them in our model"
   ]
  },
  {
   "cell_type": "markdown",
   "metadata": {},
   "source": [
    "##### 'creditLimit and 'currentBalance' are correlated features and hence we would keep only one of them in our model"
   ]
  },
  {
   "cell_type": "markdown",
   "metadata": {},
   "source": [
    "##### Similarly, 'Entered CVV' and 'Card CVV' are correlated and 'CustomerId' and 'AccountNumber' are correlated and we would keep one in each pair"
   ]
  },
  {
   "cell_type": "code",
   "execution_count": null,
   "metadata": {},
   "outputs": [],
   "source": [
    "# Specifying input features and target variable\n",
    "X = df3[['accountNumber','account_age','address_change','currentBalance','availableMoney','CVV_match','transactionAmount','expirationDateKeyInMatch','cardPresent','posEntryMode','posConditionCode','merchantCountryCode','transactionType']]\n",
    "Y = df3['isFraud']\n",
    "X.info()"
   ]
  },
  {
   "cell_type": "markdown",
   "metadata": {},
   "source": [
    "#### Training on Original Imbalanced Dataset"
   ]
  },
  {
   "cell_type": "code",
   "execution_count": null,
   "metadata": {},
   "outputs": [],
   "source": [
    "# Creating Training (80%) and Test sets(20%)\n",
    "X_train, X_test, Y_train, Y_test = train_test_split(X, Y, test_size=0.2)"
   ]
  },
  {
   "cell_type": "code",
   "execution_count": null,
   "metadata": {},
   "outputs": [],
   "source": [
    "# Creating a preprocessing pipeline\n",
    "\n",
    "\n",
    "# Create pipeline for numeric features\n",
    "numeric_transformer = Pipeline(steps=[('scaler', StandardScaler())])\n",
    "\n",
    "\n",
    "# Create pipeline for text features\n",
    "categorical_transformer = Pipeline(steps=[('onehot', OneHotEncoder(handle_unknown='ignore'))])\n",
    "\n",
    "\n",
    "# Select numeric and categorical features\n",
    "numeric_features = X.select_dtypes(include=['int64', 'float64']).columns\n",
    "categorical_features = X.select_dtypes(include=['object','bool']).columns\n",
    "\n",
    "\n",
    "# Apply transformers to relevant columns\n",
    "preprocessor = ColumnTransformer(transformers=[('num', numeric_transformer, numeric_features),\n",
    "                                               ('cat', categorical_transformer, categorical_features)])"
   ]
  },
  {
   "cell_type": "code",
   "execution_count": null,
   "metadata": {},
   "outputs": [],
   "source": [
    "# Creating final pipeline with preprocessor and estimator\n",
    "\n",
    "# Fitting Logistic regression\n",
    "lr = Pipeline(steps=[('preprocessor', preprocessor),\n",
    "                     ('classifier', LogisticRegression(max_iter=400))])\n",
    "lr.fit(X_train, Y_train)"
   ]
  },
  {
   "cell_type": "code",
   "execution_count": null,
   "metadata": {},
   "outputs": [],
   "source": [
    "# Evaluating model performance on test data\n",
    "y_pred = lr.predict(X_test)\n",
    "print('Accuracy is:',metrics.accuracy_score(y_pred, Y_test))\n",
    "print('Although the accuracy is high, this is not the correct metric to gauge model performance in imbalanced datasets')"
   ]
  },
  {
   "cell_type": "code",
   "execution_count": null,
   "metadata": {},
   "outputs": [],
   "source": [
    "#Printing Confusion Matrix\n",
    "results = confusion_matrix(Y_test.values, y_pred)\n",
    "tn, fp, fn, tp = results.ravel()\n",
    "disp = plot_confusion_matrix(lr, X_test, Y_test,cmap=plt.cm.Blues)\n",
    "print('Confusion Matrix:')\n",
    "plt.show()\n",
    "\n",
    "ROC_lr = roc_auc_score(Y_test.values, y_pred)\n",
    "rs_lr = recall_score(Y_test, y_pred)\n",
    "ps_lr = precision_score(Y_test, y_pred)\n",
    "f1_lr = f1_score(Y_test, y_pred)\n",
    "\n",
    "print('ROC_AUC   :' , ROC_lr)\n",
    "print('Recall    :' , rs_lr)\n",
    "print('Precision :' , ps_lr)\n",
    "print('F1-Score  :' , f1_lr)\n",
    "\n",
    "print('It can be observed that Recall is 0')\n",
    "print('This means prediction is biased towards majority classes i.e. predicting almost everything as False')"
   ]
  },
  {
   "cell_type": "markdown",
   "metadata": {},
   "source": [
    "#### Weighted Logistic Regression for Imbalanced Datasets\n"
   ]
  },
  {
   "cell_type": "markdown",
   "metadata": {},
   "source": [
    "Let's try weighted Logistic Regression\n",
    "\n",
    "Changing the weight configuration in the Loss Function would penalize the model less for errors made on majority class (No-Fraud) samples and penalize the model more for errors made on minority class (Fraud) samples\n",
    "\n",
    "This can be done by specifying 'class_weight' parameter in scikitlearn LogisticRegression estimator"
   ]
  },
  {
   "cell_type": "code",
   "execution_count": null,
   "metadata": {},
   "outputs": [],
   "source": [
    "# Creating weighted losgistic regression pipeline\n",
    "lr_w = Pipeline(steps=[('preprocessor', preprocessor),\n",
    "                     ('classifier', LogisticRegression(max_iter=400,class_weight = {0: 1, 1: 80}))])\n",
    "\n",
    "lr_w.fit(X_train,Y_train)\n",
    "\n",
    "\n",
    "# Optimal class weights were found by 5-fold Cross Validation Grid search, running the code below\n",
    "\n",
    "\n",
    "# Specifying class weights to be tried out\n",
    "#weights = [{0:1,1:50}, {0:1,1:70}, {0:1,1:80},{0:1,1:85}, {0:1,1:90}]\n",
    "#param_grid = {'classifier__class_weight' : weights}\n",
    "\n",
    "# Using 5 fold Cross validation based Grid search to look for optimal class weights - Criterie = ROC_AUC\n",
    "#kfolds= KFold(n_splits=5)\n",
    "\n",
    "# Specifying selection criteria as 'ROC_AUC'\n",
    "#CV=GridSearchCV(lr_w,param_grid,cv=kfolds,scoring='roc_auc')   \n",
    "#CV.fit(X_train, Y_train)\n",
    "#print(CV.best_params_)\n",
    "#print(CV.best_score_)"
   ]
  },
  {
   "cell_type": "code",
   "execution_count": null,
   "metadata": {},
   "outputs": [],
   "source": [
    "# Evaluating performance on test set\n",
    "y_pred = lr.predict(X_test)\n",
    "print('Accuracy is:',metrics.accuracy_score(y_pred, Y_test))\n",
    "print('Although the accuracy is high, this is not the correct metric to gauge model performance in imbalanced datasets')\n",
    "\n",
    "#Printing Confusion Matrix\n",
    "results = confusion_matrix(Y_val.values, y_pred)\n",
    "tn, fp, fn, tp = results.ravel()\n",
    "disp = plot_confusion_matrix(lr_w, X_val, Y_val,cmap=plt.cm.Blues)\n",
    "print('Confusion Matrix:')\n",
    "plt.show()\n",
    "\n",
    "print (classification_report(Y_val.values, y_pred))\n",
    "print('Accuracy got decreased but recall got increased to ~75')\n",
    "print('Gives less biased predictions than standard logistic regression')"
   ]
  },
  {
   "cell_type": "markdown",
   "metadata": {},
   "source": [
    "#### Trying Random Undersampling\n"
   ]
  },
  {
   "cell_type": "code",
   "execution_count": null,
   "metadata": {},
   "outputs": [],
   "source": [
    "# Creating undersampled dataset\n",
    "sampling_strategy = 0.8\n",
    "rus = RandomUnderSampler(sampling_strategy=sampling_strategy)\n",
    "X_rus, Y_rus = rus.fit_resample(X,Y)\n",
    "print('After random undersampling, the distribution of classes is : ')\n",
    "Y_rus.value_counts().plot(kind='bar',color = {'blue','green'})\n",
    "plt.title('Instances of Fraud and No-Fraud cases')\n",
    "plt.ylabel('Frequency')\n",
    "plt.show()"
   ]
  },
  {
   "cell_type": "code",
   "execution_count": null,
   "metadata": {},
   "outputs": [],
   "source": [
    "#Creating Training (80%), Validation(10%) and Test sets(10%)\n",
    "X_train, X_test, Y_train, Y_test = train_test_split(X_rus, Y_rus, test_size=0.2)"
   ]
  },
  {
   "cell_type": "code",
   "execution_count": null,
   "metadata": {},
   "outputs": [],
   "source": [
    "# Fitting Logistic Regression\n",
    "lr_us = Pipeline(steps=[('preprocessor', preprocessor),\n",
    "                     ('classifier', LogisticRegression(max_iter=400,class_weight={0:1,1:1.5}))])\n",
    "\n",
    "#Optimal class weights were found by 5-fold Cross Validation Grid search\n",
    "\n",
    "lr_us.fit(X_train,Y_train)"
   ]
  },
  {
   "cell_type": "code",
   "execution_count": null,
   "metadata": {},
   "outputs": [],
   "source": [
    "# Evaluating performance on test set\n",
    "y_pred = lr_us.predict(X_test)\n",
    "\n",
    "#Printing Confusion Matrix\n",
    "results = confusion_matrix(Y_test.values, y_pred)\n",
    "tn, fp, fn, tp = results.ravel()\n",
    "disp = plot_confusion_matrix(lr_us, X_test, Y_test,cmap=plt.cm.Blues)\n",
    "print('Confusion Matrix:')\n",
    "plt.show()\n",
    "\n",
    "ROC_lr_us = round(roc_auc_score(Y_test.values, y_pred),2)\n",
    "rs_lr_us = round(recall_score(Y_test, y_pred),2)\n",
    "ps_lr_us = round(precision_score(Y_test, y_pred),2)\n",
    "f1_lr_us = round(f1_score(Y_test, y_pred),2)\n",
    "\n",
    "print('ROC_AUC   :' , ROC_lr_us)\n",
    "print('Recall    :' , rs_lr_us)\n",
    "print('Precision :' , ps_lr_us)\n",
    "print('F1-Score  :' , f1_lr_us)"
   ]
  },
  {
   "cell_type": "code",
   "execution_count": null,
   "metadata": {},
   "outputs": [],
   "source": [
    "# Lets try k nearest neighbors with the undersampled dataset\n",
    "knn = Pipeline(steps=[('preprocessor', preprocessor),\n",
    "                      ('classifier', KNeighborsClassifier(n_neighbors=5))])\n",
    "\n",
    "# nearest neighbors = 5 found by 5 fold Grid search\n",
    "\n",
    "knn.fit(X_train,Y_train)"
   ]
  },
  {
   "cell_type": "code",
   "execution_count": null,
   "metadata": {},
   "outputs": [],
   "source": [
    "# Evaluating performance on test set\n",
    "y_pred = knn.predict(X_test)\n",
    "\n",
    "#Printing Confusion Matrix\n",
    "results = confusion_matrix(Y_test.values, y_pred)\n",
    "tn, fp, fn, tp = results.ravel()\n",
    "disp = plot_confusion_matrix(knn, X_test, Y_test,cmap=plt.cm.Blues)\n",
    "print('Confusion Matrix:')\n",
    "plt.show()\n",
    "\n",
    "ROC_knn = round(roc_auc_score(Y_test.values, y_pred),2)\n",
    "rs_knn = round(recall_score(Y_test, y_pred),2)\n",
    "ps_knn = round(precision_score(Y_test, y_pred),2)\n",
    "f1_knn = round(f1_score(Y_test, y_pred),2)\n",
    "\n",
    "print('ROC_AUC   :' , ROC_knn)\n",
    "print('Recall    :' , rs_knn)\n",
    "print('Precision :' , ps_knn)\n",
    "print('F1-Score  :' , f1_knn)"
   ]
  },
  {
   "cell_type": "code",
   "execution_count": null,
   "metadata": {},
   "outputs": [],
   "source": [
    "# Lets try SVM\n",
    "from sklearn import svm\n",
    "svm = Pipeline(steps=[('preprocessor', preprocessor),\n",
    "                     ('classifier', svm.SVC(kernel=\"rbf\",C = 10, gamma = 0.1))])\n",
    "\n",
    "# Optimal parameters C = 10, gamma = 0.1 found by Grid Search 5 fold CV\n",
    "svm.fit(X_train,Y_train)  "
   ]
  },
  {
   "cell_type": "code",
   "execution_count": null,
   "metadata": {},
   "outputs": [],
   "source": [
    "# Evaluating performance on test set\n",
    "y_pred = svm.predict(X_test)\n",
    "\n",
    "#Printing Confusion Matrix\n",
    "results = confusion_matrix(Y_test.values, y_pred)\n",
    "tn, fp, fn, tp = results.ravel()\n",
    "disp = plot_confusion_matrix(svm, X_test, Y_test,cmap=plt.cm.Blues)\n",
    "print('Confusion Matrix:')\n",
    "plt.show()\n",
    "\n",
    "ROC_svm = round(roc_auc_score(Y_test.values, y_pred),2)\n",
    "rs_svm = round(recall_score(Y_test, y_pred),2)\n",
    "ps_svm = round(precision_score(Y_test, y_pred),2)\n",
    "f1_svm = round(f1_score(Y_test, y_pred),2)\n",
    "\n",
    "print('ROC_AUC   :' , ROC_svm)\n",
    "print('Recall    :' , rs_svm)\n",
    "print('Precision :' , ps_svm)\n",
    "print('F1-Score  :' , f1_svm)"
   ]
  },
  {
   "cell_type": "code",
   "execution_count": null,
   "metadata": {},
   "outputs": [],
   "source": [
    "# XG-BOOST\n",
    "xg = Pipeline(steps=[('preprocessor', preprocessor),\n",
    "                     ('classifier', XGBClassifier(max_depth=5,n_stimators=500))])\n",
    "\n",
    "#Optimal parameters max_depth=5,n_stimators=500 found by 5-fold cv using Grid search  \n",
    "xg.fit(X_train,Y_train)"
   ]
  },
  {
   "cell_type": "code",
   "execution_count": null,
   "metadata": {},
   "outputs": [],
   "source": [
    "# Evaluating performance on test set\n",
    "y_pred = xg.predict(X_test)\n",
    "\n",
    "#Printing Confusion Matrix\n",
    "results = confusion_matrix(Y_test.values, y_pred)\n",
    "tn, fp, fn, tp = results.ravel()\n",
    "disp = plot_confusion_matrix(xg, X_test, Y_test,cmap=plt.cm.Blues)\n",
    "print('Confusion Matrix:')\n",
    "plt.show()\n",
    "\n",
    "ROC_xg = round(roc_auc_score(Y_test.values, y_pred),2)\n",
    "rs_xg = round(recall_score(Y_test, y_pred),2)\n",
    "ps_xg = round(precision_score(Y_test, y_pred),2)\n",
    "f1_xg = round(f1_score(Y_test, y_pred),2)\n",
    "\n",
    "print('ROC_AUC   :' , ROC_xg)\n",
    "print('Recall    :' , rs_xg)\n",
    "print('Precision :' , ps_xg)\n",
    "print('F1-Score  :' , f1_xg)"
   ]
  },
  {
   "cell_type": "code",
   "execution_count": null,
   "metadata": {},
   "outputs": [],
   "source": [
    "#Random Forrest Classifier\n",
    "\n",
    "rf = Pipeline(steps=[('preprocessor', preprocessor),\n",
    "                     ('classifier', RandomForestClassifier(max_depth=10,n_estimators=200))])\n",
    "\n",
    "#Optimal parameters max_depth=10,n_stimators=200 found by 5-fold cv using Grid search  \n",
    "rf.fit(X_train,Y_train)"
   ]
  },
  {
   "cell_type": "code",
   "execution_count": null,
   "metadata": {},
   "outputs": [],
   "source": [
    "# Evaluating performance on test set\n",
    "y_pred = rf.predict(X_test)\n",
    "\n",
    "#Printing Confusion Matrix\n",
    "results = confusion_matrix(Y_test.values, y_pred)\n",
    "tn, fp, fn, tp = results.ravel()\n",
    "disp = plot_confusion_matrix(rf, X_test, Y_test,cmap=plt.cm.Blues)\n",
    "print('Confusion Matrix:')\n",
    "plt.show()\n",
    "\n",
    "ROC_rf = round(roc_auc_score(Y_test.values, y_pred),2)\n",
    "rs_rf = round(recall_score(Y_test, y_pred),2)\n",
    "ps_rf = round(precision_score(Y_test, y_pred),2)\n",
    "f1_rf = round(f1_score(Y_test, y_pred),2)\n",
    "\n",
    "print('ROC_AUC   :' , ROC_rf)\n",
    "print('Recall    :' , rs_rf)\n",
    "print('Precision :' , ps_rf)\n",
    "print('F1-Score  :' , f1_rf)"
   ]
  },
  {
   "cell_type": "code",
   "execution_count": null,
   "metadata": {},
   "outputs": [],
   "source": [
    "# Checking results of undersampled data models\n",
    "print('Logistic Regression - ROC_AUC : {}, Recall : {}, Precision : {}, f1_score : {}'.format(ROC_lr_us,rs_lr_us,ps_lr_us,f1_lr_us))\n",
    "print('SVM                 - ROC_AUC - {}, Recall : {}, Precision : {}, f1_score : {}'. format(ROC_svm,rs_svm,ps_svm,f1_svm))\n",
    "print('knn                 - ROC_AUC - {}, Recall : {}, Precision : {}, f1_score : {}'. format(ROC_knn,rs_knn,ps_knn,f1_knn))\n",
    "print('XGboost             - ROC_AUC - {}, Recall : {}, Precision : {}, f1_score : {}'. format(ROC_xg,rs_xg,ps_xg,f1_xg))\n",
    "print('Random Forrest      - ROC_AUC : {}, Recall : {}, Precision : {}, f1_score : {}'. format(ROC_rf,rs_rf,ps_rf,f1_rf))"
   ]
  },
  {
   "cell_type": "markdown",
   "metadata": {},
   "source": [
    "##### f1_score is a good metric which balances both Recall and Precision. Hence we choose weighted Logistic Regression model which has the highest f1_score. Notice that it's Recall is also the highest, which is desirable in our case"
   ]
  },
  {
   "cell_type": "markdown",
   "metadata": {},
   "source": [
    "### Future Work"
   ]
  },
  {
   "cell_type": "markdown",
   "metadata": {},
   "source": [
    "##### A humble attempt at implementing SMOTE (Synthetic Minority Oversampling TEchnique) is made in current work. But this technique would be explored more comprehensively in future"
   ]
  },
  {
   "cell_type": "code",
   "execution_count": null,
   "metadata": {},
   "outputs": [],
   "source": [
    "sm = SMOTENC(categorical_features=[5,7,8,9,10,11,12])\n",
    "X_train, X_test, Y_train, Y_test = train_test_split(X, Y, test_size=0.2)\n",
    "X_ov, Y_ov = sm.fit_resample(X_train,Y_train)"
   ]
  },
  {
   "cell_type": "code",
   "execution_count": null,
   "metadata": {},
   "outputs": [],
   "source": [
    "print('After Oversampling, the distribution of classes is : ')\n",
    "Y_ov.value_counts().plot(kind='bar',color = {'blue','green'})\n",
    "plt.title('Instances of Fraud and No-Fraud cases')\n",
    "plt.ylabel('Frequency')\n",
    "plt.show()"
   ]
  },
  {
   "cell_type": "code",
   "execution_count": null,
   "metadata": {},
   "outputs": [],
   "source": [
    "lr_ov = Pipeline(steps=[('preprocessor', preprocessor),\n",
    "                     ('classifier', LogisticRegression(solver='lbfgs',max_iter=400))])\n",
    "lr_ov.fit(X_ov,Y_ov)"
   ]
  },
  {
   "cell_type": "code",
   "execution_count": null,
   "metadata": {},
   "outputs": [],
   "source": [
    "# Evaluating performance on test set\n",
    "y_pred = lr_ov.predict(X_test)\n",
    "\n",
    "#Printing Confusion Matrix\n",
    "results = confusion_matrix(Y_test.values, y_pred)\n",
    "tn, fp, fn, tp = results.ravel()\n",
    "disp = plot_confusion_matrix(lr_ov, X_test, Y_test,cmap=plt.cm.Blues)\n",
    "print('Confusion Matrix:')\n",
    "plt.show()\n",
    "\n",
    "ROC_lr_ov = round(roc_auc_score(Y_test.values, y_pred),2)\n",
    "rs_lr_ov = round(recall_score(Y_test, y_pred),2)\n",
    "ps_lr_ov = round(precision_score(Y_test, y_pred),2)\n",
    "f1_lr_ov = round(f1_score(Y_test, y_pred),2)\n",
    "\n",
    "print('ROC_AUC   :' , ROC_lr_ov)\n",
    "print('Recall    :' , rs_lr_ov)\n",
    "print('Precision :' , ps_lr_ov)\n",
    "print('F1-Score  :' , f1_lr_ov)\n",
    "\n",
    "print('Gives better result than Standard Logistic regression on Imbalanced dataset')\n",
    "print('Oversampling reduces bias in prediction')"
   ]
  }
 ],
 "metadata": {
  "kernelspec": {
   "display_name": "Python 3 (ipykernel)",
   "language": "python",
   "name": "python3"
  },
  "language_info": {
   "codemirror_mode": {
    "name": "ipython",
    "version": 3
   },
   "file_extension": ".py",
   "mimetype": "text/x-python",
   "name": "python",
   "nbconvert_exporter": "python",
   "pygments_lexer": "ipython3",
   "version": "3.9.13"
  }
 },
 "nbformat": 4,
 "nbformat_minor": 4
}
